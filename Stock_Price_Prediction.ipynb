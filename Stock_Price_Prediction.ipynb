{
  "nbformat": 4,
  "nbformat_minor": 0,
  "metadata": {
    "colab": {
      "name": "Stock-Price-Prediction.ipynb",
      "provenance": [],
      "collapsed_sections": []
    },
    "kernelspec": {
      "name": "python3",
      "display_name": "Python 3"
    },
    "language_info": {
      "name": "python"
    },
    "accelerator": "GPU",
    "gpuClass": "standard"
  },
  "cells": [
    {
      "cell_type": "code",
      "execution_count": 1,
      "metadata": {
        "id": "PmFQMQR0FH_8"
      },
      "outputs": [],
      "source": [
        "import tensorflow as tf\n",
        "import tensorflow.keras as keras\n",
        "import tensorflow.keras.layers as layers\n",
        "\n",
        "import pandas as pd\n",
        "import numpy as np\n",
        "import matplotlib.pyplot as plt\n",
        "#!pip install scikit-learn\n",
        "import sklearn\n",
        "from sklearn.preprocessing import MinMaxScaler"
      ]
    },
    {
      "cell_type": "code",
      "source": [
        "dataset = pd.read_csv(\"/content/tatamotors_stockalltime.csv\")\n",
        "dataset.head(10)"
      ],
      "metadata": {
        "colab": {
          "base_uri": "https://localhost:8080/",
          "height": 363
        },
        "id": "qQSV8IByFmyC",
        "outputId": "e0ae2650-e7b7-4958-e4a7-52a4aa07a4ed"
      },
      "execution_count": 2,
      "outputs": [
        {
          "output_type": "execute_result",
          "data": {
            "text/plain": [
              "         Date       Open       High        Low      Close  Adj Close    Volume\n",
              "0  1995-12-25  72.819626  72.819626  72.819626  72.819626  53.472778       0.0\n",
              "1  1995-12-26  72.819626  72.819626  72.819626  72.819626  53.472778       0.0\n",
              "2  1995-12-27  72.819626  72.819626  72.819626  72.819626  53.472778       0.0\n",
              "3  1995-12-28  72.819626  72.819626  72.819626  72.819626  53.472778       0.0\n",
              "4  1995-12-29  72.819626  72.819626  72.819626  72.819626  53.472778       0.0\n",
              "5  1996-01-01  72.436363  72.819626  72.340553  72.819626  53.472778   40703.0\n",
              "6  1996-01-02  72.819626  73.566986  72.053108  72.398041  53.163197  100975.0\n",
              "7  1996-01-03  72.398041  72.819626  72.101013  72.158501  52.987293   29744.0\n",
              "8  1996-01-04  72.158501  72.244736  71.190765  71.612350  52.586243  104889.0\n",
              "9  1996-01-05  71.612350  71.823151  71.094955  71.353653  52.396282   62620.0"
            ],
            "text/html": [
              "\n",
              "  <div id=\"df-f3d6e2be-8e3f-41b2-9630-9ede1e8271ae\">\n",
              "    <div class=\"colab-df-container\">\n",
              "      <div>\n",
              "<style scoped>\n",
              "    .dataframe tbody tr th:only-of-type {\n",
              "        vertical-align: middle;\n",
              "    }\n",
              "\n",
              "    .dataframe tbody tr th {\n",
              "        vertical-align: top;\n",
              "    }\n",
              "\n",
              "    .dataframe thead th {\n",
              "        text-align: right;\n",
              "    }\n",
              "</style>\n",
              "<table border=\"1\" class=\"dataframe\">\n",
              "  <thead>\n",
              "    <tr style=\"text-align: right;\">\n",
              "      <th></th>\n",
              "      <th>Date</th>\n",
              "      <th>Open</th>\n",
              "      <th>High</th>\n",
              "      <th>Low</th>\n",
              "      <th>Close</th>\n",
              "      <th>Adj Close</th>\n",
              "      <th>Volume</th>\n",
              "    </tr>\n",
              "  </thead>\n",
              "  <tbody>\n",
              "    <tr>\n",
              "      <th>0</th>\n",
              "      <td>1995-12-25</td>\n",
              "      <td>72.819626</td>\n",
              "      <td>72.819626</td>\n",
              "      <td>72.819626</td>\n",
              "      <td>72.819626</td>\n",
              "      <td>53.472778</td>\n",
              "      <td>0.0</td>\n",
              "    </tr>\n",
              "    <tr>\n",
              "      <th>1</th>\n",
              "      <td>1995-12-26</td>\n",
              "      <td>72.819626</td>\n",
              "      <td>72.819626</td>\n",
              "      <td>72.819626</td>\n",
              "      <td>72.819626</td>\n",
              "      <td>53.472778</td>\n",
              "      <td>0.0</td>\n",
              "    </tr>\n",
              "    <tr>\n",
              "      <th>2</th>\n",
              "      <td>1995-12-27</td>\n",
              "      <td>72.819626</td>\n",
              "      <td>72.819626</td>\n",
              "      <td>72.819626</td>\n",
              "      <td>72.819626</td>\n",
              "      <td>53.472778</td>\n",
              "      <td>0.0</td>\n",
              "    </tr>\n",
              "    <tr>\n",
              "      <th>3</th>\n",
              "      <td>1995-12-28</td>\n",
              "      <td>72.819626</td>\n",
              "      <td>72.819626</td>\n",
              "      <td>72.819626</td>\n",
              "      <td>72.819626</td>\n",
              "      <td>53.472778</td>\n",
              "      <td>0.0</td>\n",
              "    </tr>\n",
              "    <tr>\n",
              "      <th>4</th>\n",
              "      <td>1995-12-29</td>\n",
              "      <td>72.819626</td>\n",
              "      <td>72.819626</td>\n",
              "      <td>72.819626</td>\n",
              "      <td>72.819626</td>\n",
              "      <td>53.472778</td>\n",
              "      <td>0.0</td>\n",
              "    </tr>\n",
              "    <tr>\n",
              "      <th>5</th>\n",
              "      <td>1996-01-01</td>\n",
              "      <td>72.436363</td>\n",
              "      <td>72.819626</td>\n",
              "      <td>72.340553</td>\n",
              "      <td>72.819626</td>\n",
              "      <td>53.472778</td>\n",
              "      <td>40703.0</td>\n",
              "    </tr>\n",
              "    <tr>\n",
              "      <th>6</th>\n",
              "      <td>1996-01-02</td>\n",
              "      <td>72.819626</td>\n",
              "      <td>73.566986</td>\n",
              "      <td>72.053108</td>\n",
              "      <td>72.398041</td>\n",
              "      <td>53.163197</td>\n",
              "      <td>100975.0</td>\n",
              "    </tr>\n",
              "    <tr>\n",
              "      <th>7</th>\n",
              "      <td>1996-01-03</td>\n",
              "      <td>72.398041</td>\n",
              "      <td>72.819626</td>\n",
              "      <td>72.101013</td>\n",
              "      <td>72.158501</td>\n",
              "      <td>52.987293</td>\n",
              "      <td>29744.0</td>\n",
              "    </tr>\n",
              "    <tr>\n",
              "      <th>8</th>\n",
              "      <td>1996-01-04</td>\n",
              "      <td>72.158501</td>\n",
              "      <td>72.244736</td>\n",
              "      <td>71.190765</td>\n",
              "      <td>71.612350</td>\n",
              "      <td>52.586243</td>\n",
              "      <td>104889.0</td>\n",
              "    </tr>\n",
              "    <tr>\n",
              "      <th>9</th>\n",
              "      <td>1996-01-05</td>\n",
              "      <td>71.612350</td>\n",
              "      <td>71.823151</td>\n",
              "      <td>71.094955</td>\n",
              "      <td>71.353653</td>\n",
              "      <td>52.396282</td>\n",
              "      <td>62620.0</td>\n",
              "    </tr>\n",
              "  </tbody>\n",
              "</table>\n",
              "</div>\n",
              "      <button class=\"colab-df-convert\" onclick=\"convertToInteractive('df-f3d6e2be-8e3f-41b2-9630-9ede1e8271ae')\"\n",
              "              title=\"Convert this dataframe to an interactive table.\"\n",
              "              style=\"display:none;\">\n",
              "        \n",
              "  <svg xmlns=\"http://www.w3.org/2000/svg\" height=\"24px\"viewBox=\"0 0 24 24\"\n",
              "       width=\"24px\">\n",
              "    <path d=\"M0 0h24v24H0V0z\" fill=\"none\"/>\n",
              "    <path d=\"M18.56 5.44l.94 2.06.94-2.06 2.06-.94-2.06-.94-.94-2.06-.94 2.06-2.06.94zm-11 1L8.5 8.5l.94-2.06 2.06-.94-2.06-.94L8.5 2.5l-.94 2.06-2.06.94zm10 10l.94 2.06.94-2.06 2.06-.94-2.06-.94-.94-2.06-.94 2.06-2.06.94z\"/><path d=\"M17.41 7.96l-1.37-1.37c-.4-.4-.92-.59-1.43-.59-.52 0-1.04.2-1.43.59L10.3 9.45l-7.72 7.72c-.78.78-.78 2.05 0 2.83L4 21.41c.39.39.9.59 1.41.59.51 0 1.02-.2 1.41-.59l7.78-7.78 2.81-2.81c.8-.78.8-2.07 0-2.86zM5.41 20L4 18.59l7.72-7.72 1.47 1.35L5.41 20z\"/>\n",
              "  </svg>\n",
              "      </button>\n",
              "      \n",
              "  <style>\n",
              "    .colab-df-container {\n",
              "      display:flex;\n",
              "      flex-wrap:wrap;\n",
              "      gap: 12px;\n",
              "    }\n",
              "\n",
              "    .colab-df-convert {\n",
              "      background-color: #E8F0FE;\n",
              "      border: none;\n",
              "      border-radius: 50%;\n",
              "      cursor: pointer;\n",
              "      display: none;\n",
              "      fill: #1967D2;\n",
              "      height: 32px;\n",
              "      padding: 0 0 0 0;\n",
              "      width: 32px;\n",
              "    }\n",
              "\n",
              "    .colab-df-convert:hover {\n",
              "      background-color: #E2EBFA;\n",
              "      box-shadow: 0px 1px 2px rgba(60, 64, 67, 0.3), 0px 1px 3px 1px rgba(60, 64, 67, 0.15);\n",
              "      fill: #174EA6;\n",
              "    }\n",
              "\n",
              "    [theme=dark] .colab-df-convert {\n",
              "      background-color: #3B4455;\n",
              "      fill: #D2E3FC;\n",
              "    }\n",
              "\n",
              "    [theme=dark] .colab-df-convert:hover {\n",
              "      background-color: #434B5C;\n",
              "      box-shadow: 0px 1px 3px 1px rgba(0, 0, 0, 0.15);\n",
              "      filter: drop-shadow(0px 1px 2px rgba(0, 0, 0, 0.3));\n",
              "      fill: #FFFFFF;\n",
              "    }\n",
              "  </style>\n",
              "\n",
              "      <script>\n",
              "        const buttonEl =\n",
              "          document.querySelector('#df-f3d6e2be-8e3f-41b2-9630-9ede1e8271ae button.colab-df-convert');\n",
              "        buttonEl.style.display =\n",
              "          google.colab.kernel.accessAllowed ? 'block' : 'none';\n",
              "\n",
              "        async function convertToInteractive(key) {\n",
              "          const element = document.querySelector('#df-f3d6e2be-8e3f-41b2-9630-9ede1e8271ae');\n",
              "          const dataTable =\n",
              "            await google.colab.kernel.invokeFunction('convertToInteractive',\n",
              "                                                     [key], {});\n",
              "          if (!dataTable) return;\n",
              "\n",
              "          const docLinkHtml = 'Like what you see? Visit the ' +\n",
              "            '<a target=\"_blank\" href=https://colab.research.google.com/notebooks/data_table.ipynb>data table notebook</a>'\n",
              "            + ' to learn more about interactive tables.';\n",
              "          element.innerHTML = '';\n",
              "          dataTable['output_type'] = 'display_data';\n",
              "          await google.colab.output.renderOutput(dataTable, element);\n",
              "          const docLink = document.createElement('div');\n",
              "          docLink.innerHTML = docLinkHtml;\n",
              "          element.appendChild(docLink);\n",
              "        }\n",
              "      </script>\n",
              "    </div>\n",
              "  </div>\n",
              "  "
            ]
          },
          "metadata": {},
          "execution_count": 2
        }
      ]
    },
    {
      "cell_type": "code",
      "source": [
        "dataset = dataset.dropna()\n",
        "dataset.head()"
      ],
      "metadata": {
        "colab": {
          "base_uri": "https://localhost:8080/",
          "height": 206
        },
        "id": "eCXLBrMXGIut",
        "outputId": "720bd86f-551e-43d7-a791-fd9143144e8d"
      },
      "execution_count": 3,
      "outputs": [
        {
          "output_type": "execute_result",
          "data": {
            "text/plain": [
              "         Date       Open       High        Low      Close  Adj Close  Volume\n",
              "0  1995-12-25  72.819626  72.819626  72.819626  72.819626  53.472778     0.0\n",
              "1  1995-12-26  72.819626  72.819626  72.819626  72.819626  53.472778     0.0\n",
              "2  1995-12-27  72.819626  72.819626  72.819626  72.819626  53.472778     0.0\n",
              "3  1995-12-28  72.819626  72.819626  72.819626  72.819626  53.472778     0.0\n",
              "4  1995-12-29  72.819626  72.819626  72.819626  72.819626  53.472778     0.0"
            ],
            "text/html": [
              "\n",
              "  <div id=\"df-cde430e4-43d5-4f49-9043-23a2824124df\">\n",
              "    <div class=\"colab-df-container\">\n",
              "      <div>\n",
              "<style scoped>\n",
              "    .dataframe tbody tr th:only-of-type {\n",
              "        vertical-align: middle;\n",
              "    }\n",
              "\n",
              "    .dataframe tbody tr th {\n",
              "        vertical-align: top;\n",
              "    }\n",
              "\n",
              "    .dataframe thead th {\n",
              "        text-align: right;\n",
              "    }\n",
              "</style>\n",
              "<table border=\"1\" class=\"dataframe\">\n",
              "  <thead>\n",
              "    <tr style=\"text-align: right;\">\n",
              "      <th></th>\n",
              "      <th>Date</th>\n",
              "      <th>Open</th>\n",
              "      <th>High</th>\n",
              "      <th>Low</th>\n",
              "      <th>Close</th>\n",
              "      <th>Adj Close</th>\n",
              "      <th>Volume</th>\n",
              "    </tr>\n",
              "  </thead>\n",
              "  <tbody>\n",
              "    <tr>\n",
              "      <th>0</th>\n",
              "      <td>1995-12-25</td>\n",
              "      <td>72.819626</td>\n",
              "      <td>72.819626</td>\n",
              "      <td>72.819626</td>\n",
              "      <td>72.819626</td>\n",
              "      <td>53.472778</td>\n",
              "      <td>0.0</td>\n",
              "    </tr>\n",
              "    <tr>\n",
              "      <th>1</th>\n",
              "      <td>1995-12-26</td>\n",
              "      <td>72.819626</td>\n",
              "      <td>72.819626</td>\n",
              "      <td>72.819626</td>\n",
              "      <td>72.819626</td>\n",
              "      <td>53.472778</td>\n",
              "      <td>0.0</td>\n",
              "    </tr>\n",
              "    <tr>\n",
              "      <th>2</th>\n",
              "      <td>1995-12-27</td>\n",
              "      <td>72.819626</td>\n",
              "      <td>72.819626</td>\n",
              "      <td>72.819626</td>\n",
              "      <td>72.819626</td>\n",
              "      <td>53.472778</td>\n",
              "      <td>0.0</td>\n",
              "    </tr>\n",
              "    <tr>\n",
              "      <th>3</th>\n",
              "      <td>1995-12-28</td>\n",
              "      <td>72.819626</td>\n",
              "      <td>72.819626</td>\n",
              "      <td>72.819626</td>\n",
              "      <td>72.819626</td>\n",
              "      <td>53.472778</td>\n",
              "      <td>0.0</td>\n",
              "    </tr>\n",
              "    <tr>\n",
              "      <th>4</th>\n",
              "      <td>1995-12-29</td>\n",
              "      <td>72.819626</td>\n",
              "      <td>72.819626</td>\n",
              "      <td>72.819626</td>\n",
              "      <td>72.819626</td>\n",
              "      <td>53.472778</td>\n",
              "      <td>0.0</td>\n",
              "    </tr>\n",
              "  </tbody>\n",
              "</table>\n",
              "</div>\n",
              "      <button class=\"colab-df-convert\" onclick=\"convertToInteractive('df-cde430e4-43d5-4f49-9043-23a2824124df')\"\n",
              "              title=\"Convert this dataframe to an interactive table.\"\n",
              "              style=\"display:none;\">\n",
              "        \n",
              "  <svg xmlns=\"http://www.w3.org/2000/svg\" height=\"24px\"viewBox=\"0 0 24 24\"\n",
              "       width=\"24px\">\n",
              "    <path d=\"M0 0h24v24H0V0z\" fill=\"none\"/>\n",
              "    <path d=\"M18.56 5.44l.94 2.06.94-2.06 2.06-.94-2.06-.94-.94-2.06-.94 2.06-2.06.94zm-11 1L8.5 8.5l.94-2.06 2.06-.94-2.06-.94L8.5 2.5l-.94 2.06-2.06.94zm10 10l.94 2.06.94-2.06 2.06-.94-2.06-.94-.94-2.06-.94 2.06-2.06.94z\"/><path d=\"M17.41 7.96l-1.37-1.37c-.4-.4-.92-.59-1.43-.59-.52 0-1.04.2-1.43.59L10.3 9.45l-7.72 7.72c-.78.78-.78 2.05 0 2.83L4 21.41c.39.39.9.59 1.41.59.51 0 1.02-.2 1.41-.59l7.78-7.78 2.81-2.81c.8-.78.8-2.07 0-2.86zM5.41 20L4 18.59l7.72-7.72 1.47 1.35L5.41 20z\"/>\n",
              "  </svg>\n",
              "      </button>\n",
              "      \n",
              "  <style>\n",
              "    .colab-df-container {\n",
              "      display:flex;\n",
              "      flex-wrap:wrap;\n",
              "      gap: 12px;\n",
              "    }\n",
              "\n",
              "    .colab-df-convert {\n",
              "      background-color: #E8F0FE;\n",
              "      border: none;\n",
              "      border-radius: 50%;\n",
              "      cursor: pointer;\n",
              "      display: none;\n",
              "      fill: #1967D2;\n",
              "      height: 32px;\n",
              "      padding: 0 0 0 0;\n",
              "      width: 32px;\n",
              "    }\n",
              "\n",
              "    .colab-df-convert:hover {\n",
              "      background-color: #E2EBFA;\n",
              "      box-shadow: 0px 1px 2px rgba(60, 64, 67, 0.3), 0px 1px 3px 1px rgba(60, 64, 67, 0.15);\n",
              "      fill: #174EA6;\n",
              "    }\n",
              "\n",
              "    [theme=dark] .colab-df-convert {\n",
              "      background-color: #3B4455;\n",
              "      fill: #D2E3FC;\n",
              "    }\n",
              "\n",
              "    [theme=dark] .colab-df-convert:hover {\n",
              "      background-color: #434B5C;\n",
              "      box-shadow: 0px 1px 3px 1px rgba(0, 0, 0, 0.15);\n",
              "      filter: drop-shadow(0px 1px 2px rgba(0, 0, 0, 0.3));\n",
              "      fill: #FFFFFF;\n",
              "    }\n",
              "  </style>\n",
              "\n",
              "      <script>\n",
              "        const buttonEl =\n",
              "          document.querySelector('#df-cde430e4-43d5-4f49-9043-23a2824124df button.colab-df-convert');\n",
              "        buttonEl.style.display =\n",
              "          google.colab.kernel.accessAllowed ? 'block' : 'none';\n",
              "\n",
              "        async function convertToInteractive(key) {\n",
              "          const element = document.querySelector('#df-cde430e4-43d5-4f49-9043-23a2824124df');\n",
              "          const dataTable =\n",
              "            await google.colab.kernel.invokeFunction('convertToInteractive',\n",
              "                                                     [key], {});\n",
              "          if (!dataTable) return;\n",
              "\n",
              "          const docLinkHtml = 'Like what you see? Visit the ' +\n",
              "            '<a target=\"_blank\" href=https://colab.research.google.com/notebooks/data_table.ipynb>data table notebook</a>'\n",
              "            + ' to learn more about interactive tables.';\n",
              "          element.innerHTML = '';\n",
              "          dataTable['output_type'] = 'display_data';\n",
              "          await google.colab.output.renderOutput(dataTable, element);\n",
              "          const docLink = document.createElement('div');\n",
              "          docLink.innerHTML = docLinkHtml;\n",
              "          element.appendChild(docLink);\n",
              "        }\n",
              "      </script>\n",
              "    </div>\n",
              "  </div>\n",
              "  "
            ]
          },
          "metadata": {},
          "execution_count": 3
        }
      ]
    },
    {
      "cell_type": "code",
      "source": [
        "num_train = int(0.8*len(dataset['Close']))\n",
        "\n",
        "data_train = dataset.iloc[:num_train]\n",
        "data_test = dataset.iloc[num_train:]\n",
        "\n",
        "training_set = dataset.iloc[:num_train, 4:5].values\n",
        "test_set = dataset.iloc[num_train:, 4:5].values"
      ],
      "metadata": {
        "id": "ja3H-oGrGQaG"
      },
      "execution_count": 4,
      "outputs": []
    },
    {
      "cell_type": "code",
      "source": [
        "scaler = MinMaxScaler(feature_range=(0,1))\n",
        "training_set_scaled = scaler.fit_transform(training_set)\n",
        "training_set_scaled"
      ],
      "metadata": {
        "colab": {
          "base_uri": "https://localhost:8080/"
        },
        "id": "5HVNrrdrGZzx",
        "outputId": "83580e2d-b068-4be4-b547-03ec3482dbd6"
      },
      "execution_count": 5,
      "outputs": [
        {
          "output_type": "execute_result",
          "data": {
            "text/plain": [
              "array([[0.10488202],\n",
              "       [0.10488202],\n",
              "       [0.10488202],\n",
              "       ...,\n",
              "       [0.79273924],\n",
              "       [0.79188726],\n",
              "       [0.78805334]])"
            ]
          },
          "metadata": {},
          "execution_count": 5
        }
      ]
    },
    {
      "cell_type": "code",
      "source": [
        "xtrain = []\n",
        "ytrain = []\n",
        "\n",
        "start = 50\n",
        "end = len(training_set)"
      ],
      "metadata": {
        "id": "Yqv7wRVVGuKE"
      },
      "execution_count": 6,
      "outputs": []
    },
    {
      "cell_type": "code",
      "source": [
        "for i in range(start, end):\n",
        "  xtrain.append(training_set_scaled[i-start:i, 0])\n",
        "  ytrain.append(training_set_scaled[i, 0])\n",
        "\n",
        "xtrain = np.array(xtrain)\n",
        "ytrain = np.array(ytrain)"
      ],
      "metadata": {
        "id": "gMqExl9CHkUH"
      },
      "execution_count": 7,
      "outputs": []
    },
    {
      "cell_type": "code",
      "source": [
        "xtrain.shape"
      ],
      "metadata": {
        "colab": {
          "base_uri": "https://localhost:8080/"
        },
        "id": "HXna-hdkH2LH",
        "outputId": "2810947b-ef26-4135-bed0-6875212c02ff"
      },
      "execution_count": 8,
      "outputs": [
        {
          "output_type": "execute_result",
          "data": {
            "text/plain": [
              "(5318, 50)"
            ]
          },
          "metadata": {},
          "execution_count": 8
        }
      ]
    },
    {
      "cell_type": "code",
      "source": [
        "ytrain.shape"
      ],
      "metadata": {
        "colab": {
          "base_uri": "https://localhost:8080/"
        },
        "id": "wiMwhoQiH7Kz",
        "outputId": "07e0ab39-afae-4f4b-b973-d8d3c6a5b1c5"
      },
      "execution_count": 9,
      "outputs": [
        {
          "output_type": "execute_result",
          "data": {
            "text/plain": [
              "(5318,)"
            ]
          },
          "metadata": {},
          "execution_count": 9
        }
      ]
    },
    {
      "cell_type": "code",
      "source": [
        "xtrain = np.reshape(xtrain, (xtrain.shape[0], xtrain.shape[1], 1))\n",
        "xtrain.shape"
      ],
      "metadata": {
        "colab": {
          "base_uri": "https://localhost:8080/"
        },
        "id": "pHval88fH8nu",
        "outputId": "4ae5d78d-0153-413c-821f-34403db4b76b"
      },
      "execution_count": 10,
      "outputs": [
        {
          "output_type": "execute_result",
          "data": {
            "text/plain": [
              "(5318, 50, 1)"
            ]
          },
          "metadata": {},
          "execution_count": 10
        }
      ]
    },
    {
      "cell_type": "code",
      "source": [
        "def create_model():\n",
        "  inputs = keras.Input(shape=(xtrain.shape[1], 1))\n",
        "  x = layers.LSTM(128, return_sequences=True)(inputs)\n",
        "  x = layers.LSTM(64, return_sequences=True)(x)\n",
        "  x = layers.LSTM(32)(x)\n",
        "  x = layers.Dropout(0.2)(x)\n",
        "  outputs = layers.Dense(1, activation='sigmoid')(x)\n",
        "  model = keras.Model(inputs, outputs)\n",
        "  return model\n",
        "\n",
        "\n",
        "model = create_model()\n",
        "model.summary()"
      ],
      "metadata": {
        "colab": {
          "base_uri": "https://localhost:8080/"
        },
        "id": "53sp9S-nIYx-",
        "outputId": "c3a39ef6-9886-4ed3-b477-72b49865f5f4"
      },
      "execution_count": 11,
      "outputs": [
        {
          "output_type": "stream",
          "name": "stdout",
          "text": [
            "Model: \"model\"\n",
            "_________________________________________________________________\n",
            " Layer (type)                Output Shape              Param #   \n",
            "=================================================================\n",
            " input_1 (InputLayer)        [(None, 50, 1)]           0         \n",
            "                                                                 \n",
            " lstm (LSTM)                 (None, 50, 128)           66560     \n",
            "                                                                 \n",
            " lstm_1 (LSTM)               (None, 50, 64)            49408     \n",
            "                                                                 \n",
            " lstm_2 (LSTM)               (None, 32)                12416     \n",
            "                                                                 \n",
            " dropout (Dropout)           (None, 32)                0         \n",
            "                                                                 \n",
            " dense (Dense)               (None, 1)                 33        \n",
            "                                                                 \n",
            "=================================================================\n",
            "Total params: 128,417\n",
            "Trainable params: 128,417\n",
            "Non-trainable params: 0\n",
            "_________________________________________________________________\n"
          ]
        }
      ]
    },
    {
      "cell_type": "code",
      "source": [
        "model.compile(optimizer = keras.optimizers.RMSprop(), loss = 'mse', metrics='mae')"
      ],
      "metadata": {
        "id": "w1Wg9J8nIpFi"
      },
      "execution_count": 12,
      "outputs": []
    },
    {
      "cell_type": "code",
      "source": [
        "callbacks = [keras.callbacks.ModelCheckpoint(\"stock_1.keras\", save_best_only=True, monitor='mae')]"
      ],
      "metadata": {
        "id": "iavksLOFJKNm"
      },
      "execution_count": 13,
      "outputs": []
    },
    {
      "cell_type": "code",
      "source": [
        "history = model.fit(xtrain, ytrain, epochs=10, batch_size=16, callbacks=callbacks)"
      ],
      "metadata": {
        "colab": {
          "base_uri": "https://localhost:8080/"
        },
        "id": "A2_atGUNJGjK",
        "outputId": "09a2cf5a-17b4-4337-f3e1-0013989e5bda"
      },
      "execution_count": 14,
      "outputs": [
        {
          "output_type": "stream",
          "name": "stdout",
          "text": [
            "Epoch 1/10\n",
            "333/333 [==============================] - 15s 20ms/step - loss: 0.0053 - mae: 0.0477\n",
            "Epoch 2/10\n",
            "333/333 [==============================] - 5s 16ms/step - loss: 0.0014 - mae: 0.0271\n",
            "Epoch 3/10\n",
            "333/333 [==============================] - 4s 11ms/step - loss: 0.0010 - mae: 0.0231\n",
            "Epoch 4/10\n",
            "333/333 [==============================] - 4s 11ms/step - loss: 8.2478e-04 - mae: 0.0212\n",
            "Epoch 5/10\n",
            "333/333 [==============================] - 4s 11ms/step - loss: 7.1011e-04 - mae: 0.0198\n",
            "Epoch 6/10\n",
            "333/333 [==============================] - 4s 11ms/step - loss: 6.2844e-04 - mae: 0.0185\n",
            "Epoch 7/10\n",
            "333/333 [==============================] - 4s 11ms/step - loss: 5.9019e-04 - mae: 0.0179\n",
            "Epoch 8/10\n",
            "333/333 [==============================] - 4s 11ms/step - loss: 5.3638e-04 - mae: 0.0171\n",
            "Epoch 9/10\n",
            "333/333 [==============================] - 4s 11ms/step - loss: 5.1443e-04 - mae: 0.0167\n",
            "Epoch 10/10\n",
            "333/333 [==============================] - 4s 11ms/step - loss: 4.9632e-04 - mae: 0.0164\n"
          ]
        }
      ]
    },
    {
      "cell_type": "code",
      "source": [
        "scaler = MinMaxScaler(feature_range=(0,1))\n",
        "test_set_scaled = scaler.fit_transform(test_set)\n",
        "test_set_scaled\n",
        "\n",
        "xtest=[]\n",
        "ytest=[]\n",
        "\n",
        "for i in range(start, int(len(test_set))):\n",
        "  xtest.append(test_set_scaled[i-start:i, 0])\n",
        "  ytest.append(test_set[i, 0])\n",
        "\n",
        "\n",
        "xtest = np.array(xtest)\n",
        "ytest = np.array(ytest)"
      ],
      "metadata": {
        "id": "IEfTokryJfav"
      },
      "execution_count": 20,
      "outputs": []
    },
    {
      "cell_type": "code",
      "source": [
        "xtest.shape"
      ],
      "metadata": {
        "colab": {
          "base_uri": "https://localhost:8080/"
        },
        "id": "1UES4r9gR5Uy",
        "outputId": "003997ad-6eaf-46aa-f112-11ada46ef954"
      },
      "execution_count": 21,
      "outputs": [
        {
          "output_type": "execute_result",
          "data": {
            "text/plain": [
              "(1292, 50)"
            ]
          },
          "metadata": {},
          "execution_count": 21
        }
      ]
    },
    {
      "cell_type": "code",
      "source": [
        "ytest.shape"
      ],
      "metadata": {
        "colab": {
          "base_uri": "https://localhost:8080/"
        },
        "id": "naDRh7DOSAGQ",
        "outputId": "b055b11e-b4dc-4a77-9788-0483f9289c45"
      },
      "execution_count": 22,
      "outputs": [
        {
          "output_type": "execute_result",
          "data": {
            "text/plain": [
              "(1292,)"
            ]
          },
          "metadata": {},
          "execution_count": 22
        }
      ]
    },
    {
      "cell_type": "code",
      "source": [
        "model = keras.models.load_model(\"stock_1.keras\")\n",
        "pred = model.predict(xtest)\n",
        "pred = scaler.inverse_transform(pred)"
      ],
      "metadata": {
        "id": "7wJTKA4USBFX"
      },
      "execution_count": 23,
      "outputs": []
    },
    {
      "cell_type": "code",
      "source": [
        "plt.plot(ytest, color = 'red', label = 'Real Google Stock Price')\n",
        "plt.plot(pred, color = 'blue', label = 'Predicted Google Stock Price')\n",
        "plt.title('Stock Price Prediction')\n",
        "plt.xlabel('Time')\n",
        "plt.ylabel('Stock Price')\n",
        "plt.legend()\n",
        "plt.show()"
      ],
      "metadata": {
        "colab": {
          "base_uri": "https://localhost:8080/",
          "height": 295
        },
        "id": "qUn2-2cCSXjr",
        "outputId": "d4ec9d1d-f559-4819-91e6-f38cc4432a40"
      },
      "execution_count": 24,
      "outputs": [
        {
          "output_type": "display_data",
          "data": {
            "text/plain": [
              "<Figure size 432x288 with 1 Axes>"
            ],
            "image/png": "[encoded data removed]"
          },
          "metadata": {
            "needs_background": "light"
          }
        }
      ]
    },
    {
      "cell_type": "code",
      "source": [],
      "metadata": {
        "id": "9-d5ZvlMVMc_"
      },
      "execution_count": null,
      "outputs": []
    }
  ]
}